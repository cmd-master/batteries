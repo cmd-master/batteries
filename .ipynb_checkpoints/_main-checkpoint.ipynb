{
 "cells": [
  {
   "cell_type": "markdown",
   "id": "cf4acf5f",
   "metadata": {},
   "source": [
    "[kaggle](https://www.kaggle.com/competitions/eso-battery-forecasting)\n",
    "# Summary\n",
    "## Goal\n",
    "\n",
    "To predict battery behaviour on Great Britain's electricity network. \n",
    "\n",
    "Identify trends, detect anomalies, and develop predictive models to balance the system."
   ]
  },
  {
   "cell_type": "markdown",
   "id": "0ca65ecf",
   "metadata": {},
   "source": [
    "## Editor's Notes\n",
    "### Iteration 1.\n",
    "I have added the average by the hour to see the score.\n",
    "Also, for splitting train|test, I went with using the 2 years worth\n",
    "of data namely, from 2020-08-01 to 2022-08-31, as my training date.\n",
    "And the rest are test data.\n",
    "I did not do any validation yet.\n",
    "I need to understand first how a battery works in a grid.\n",
    "I know that the cities must be using it only when there is\n",
    "no wind, solar and other renewables generating power.\n",
    "From the averages, I see that the batteries are being charged during early morning.\n",
    "Then they are being used heavily at night, just before 2000 utc.\n",
    "What would be interesting is to see how wind|solar are generating energy\n",
    "and how the prices affects usage.\n",
    "\n",
    "\n",
    "### Iteration 0.\n",
    "> Note to self:\n",
    "> Iteration should only be when you make a submission and not for taking notes.\n",
    "> You need to make note taking effortless. Don't worry too much on formatting.\n",
    "> Do not get stuck on taking notes. Make it brief and keep coding.\n",
    "\n",
    "The data seems to be organized by cities\n",
    "and there is an overarching metric, which is the target - battery_output.\n",
    "What I understand, battery output is positive when it is recharging\n",
    "and it is negative when it is discharging.\n",
    "I need to graph it out so that I can see it and take it from there.\n",
    "\n",
    "\n",
    "\n",
    "\n",
    "\n",
    "\n",
    "\n",
    "\n",
    "\n",
    "\n",
    "\n",
    "\n",
    "\n",
    "\n",
    "\n",
    "\n",
    "\n",
    "\n",
    "\n",
    "\n",
    "\n",
    "\n",
    "\n",
    "\n",
    "\n",
    "\n",
    "\n",
    "\n",
    "\n",
    "\n",
    "\n",
    "\n",
    "\n",
    "\n",
    "\n",
    "\n"
   ]
  },
  {
   "cell_type": "code",
   "execution_count": 1,
   "id": "9129692d",
   "metadata": {},
   "outputs": [],
   "source": [
    "import pandas as pd\n",
    "import numpy as np\n",
    "import seaborn as sns\n",
    "pd.options.display.max_rows = 500\n",
    "pd.options.display.max_columns = 500\n",
    "sns.set_style('whitegrid')"
   ]
  },
  {
   "cell_type": "code",
   "execution_count": 2,
   "id": "5c69f1f8",
   "metadata": {},
   "outputs": [],
   "source": [
    "df = pd.read_csv('/kaggle/input/eso-battery-forecasting/train_data.csv')"
   ]
  },
  {
   "cell_type": "code",
   "execution_count": 3,
   "id": "0aadaa7d",
   "metadata": {},
   "outputs": [
    {
     "data": {
      "text/plain": [
       "float64    262\n",
       "object      31\n",
       "int64        1\n",
       "dtype: int64"
      ]
     },
     "execution_count": 3,
     "metadata": {},
     "output_type": "execute_result"
    }
   ],
   "source": [
    "df.dtypes.value_counts()"
   ]
  },
  {
   "cell_type": "code",
   "execution_count": 4,
   "id": "f722d736",
   "metadata": {},
   "outputs": [],
   "source": [
    "df.columns = df.columns.str.lower().str.replace(' ', '')"
   ]
  },
  {
   "cell_type": "code",
   "execution_count": 5,
   "id": "cfcbcc67",
   "metadata": {},
   "outputs": [],
   "source": [
    "df['utc_settlement_datetime'] = pd.to_datetime(df['utc_settlement_datetime'])\n",
    "df['date'] = df['utc_settlement_datetime'].dt.date"
   ]
  },
  {
   "cell_type": "code",
   "execution_count": 6,
   "id": "1f0e7368",
   "metadata": {},
   "outputs": [],
   "source": [
    "num = [x for x in df.columns if df.dtypes[x] == 'float64']\n",
    "cat = [x for x in df.columns if df.dtypes[x] == 'object']\n",
    "target = 'battery_output'\n",
    "num.remove(target)\n",
    "\n",
    "price = [x for x in num if 'price' in x]\n",
    "coor = [x for x in num if 'long' in x or 'latitude' in x]\n",
    "pop = [x for x in num if 'population' in x]\n",
    "is_ = [x for x in num if 'is_' in x]\n",
    "\n",
    "date = 'utc_settlement_datetime'\n",
    "utco = [x for x in num if 'utc' in x]\n",
    "surf = [x for x in num if 'surface_pressure' in x]\n",
    "gent = [x for x in num if 'generationtime' in x]\n",
    "\n",
    "wcode = [x for x in num if 'weathercode' in x]\n",
    "temp = [x for x in num if 'temperature' in x]\n",
    "wind = [x for x in num if 'wind' in x]\n",
    "cloud = [x for x in num if 'cloud' in x]\n",
    "rain = [x for x in num if 'prec' in x or 'rain' in x]\n",
    "humid = [x for x in num if 'humid' in x]\n",
    "snow = [x for x in num if 'snow' in x]\n",
    "dewp = [x for x in num if 'dewpoint' in x]\n",
    "elev = [x for x in num if 'elevation' in x]\n"
   ]
  },
  {
   "cell_type": "code",
   "execution_count": 7,
   "id": "303b3cad",
   "metadata": {},
   "outputs": [],
   "source": [
    "train = df.loc[df[date].dt.date < pd.Timestamp('2022-09-01').date()]\n",
    "test = df.loc[df[date].dt.date >= pd.Timestamp('2022-09-01').date()]"
   ]
  },
  {
   "cell_type": "markdown",
   "id": "85011f97",
   "metadata": {},
   "source": [
    "# Work Area"
   ]
  },
  {
   "cell_type": "code",
   "execution_count": 8,
   "id": "9b288fde",
   "metadata": {},
   "outputs": [
    {
     "data": {
      "text/plain": [
       "battery_output                             1.000000\n",
       "windspeed_100mnewcastleupontyne_weather    0.036603\n",
       "windgusts_10mnewcastleupontyne_weather     0.036383\n",
       "windspeed_10mnewcastleupontyne_weather     0.035655\n",
       "windspeed_100mleeds_weather                0.031763\n",
       "Name: battery_output, dtype: float64"
      ]
     },
     "execution_count": 8,
     "metadata": {},
     "output_type": "execute_result"
    }
   ],
   "source": [
    "corr = train.corr(numeric_only=True)\n",
    "\n",
    "corr[target].sort_values(ascending=False).head()"
   ]
  },
  {
   "cell_type": "code",
   "execution_count": 9,
   "id": "2e4facdd",
   "metadata": {},
   "outputs": [],
   "source": [
    "belfast = [x for x in df.columns if 'belfast' in x]"
   ]
  },
  {
   "cell_type": "markdown",
   "id": "4f71c319",
   "metadata": {},
   "source": [
    "## Target"
   ]
  },
  {
   "cell_type": "code",
   "execution_count": 10,
   "id": "806ac598",
   "metadata": {},
   "outputs": [
    {
     "data": {
      "image/png": "[encoded data removed]",
      "text/plain": [
       "<Figure size 640x480 with 1 Axes>"
      ]
     },
     "metadata": {},
     "output_type": "display_data"
    }
   ],
   "source": [
    "g = train\n",
    "sns.lineplot(x=train[date].dt.hour, y=target, data=g);"
   ]
  },
  {
   "cell_type": "markdown",
   "id": "13ccdb1c",
   "metadata": {},
   "source": [
    "# Pipeline"
   ]
  },
  {
   "cell_type": "code",
   "execution_count": 11,
   "id": "dfc370f6",
   "metadata": {},
   "outputs": [],
   "source": [
    "from sklearn.pipeline import Pipeline, FeatureUnion\n",
    "from sklearn.preprocessing import StandardScaler, OneHotEncoder\n",
    "from sklearn.impute import SimpleImputer\n",
    "from sklearn.base import BaseEstimator, TransformerMixin\n",
    "\n",
    "class DataSelect(BaseEstimator, TransformerMixin):\n",
    "    def __init__(self, attributes):\n",
    "        self.attributes = attributes\n",
    "    def fit(self, X, y=None):\n",
    "        return self\n",
    "    def transform(self, X, y=None):\n",
    "        return X[self.attributes]\n",
    "\n",
    "num_pp = Pipeline([\n",
    "    ('dataselect', DataSelect(num))\n",
    "    , ('impute', SimpleImputer(strategy='mean'))\n",
    "    , ('scaler', StandardScaler())\n",
    "])\n",
    "\n",
    "cat_pp = Pipeline([\n",
    "    ('dataselect', DataSelect(cat))\n",
    "    , ('encoder', OneHotEncoder(sparse_output=False))\n",
    "])\n",
    "\n",
    "pipe = FeatureUnion([\n",
    "    ('num', num_pp)\n",
    "    , ('cat', cat_pp)\n",
    "])\n",
    "\n",
    "pipe.fit(train)\n",
    "train_pre = pipe.transform(train)\n",
    "# test_pre = pipe.transform(test)"
   ]
  },
  {
   "cell_type": "markdown",
   "id": "02e424c7",
   "metadata": {},
   "source": [
    "# Submission"
   ]
  },
  {
   "cell_type": "code",
   "execution_count": 12,
   "id": "4b74ca57",
   "metadata": {},
   "outputs": [],
   "source": [
    "samp = pd.read_csv('/kaggle/input/eso-battery-forecasting/test_data.csv')"
   ]
  },
  {
   "cell_type": "code",
   "execution_count": 13,
   "id": "a5173c0c",
   "metadata": {},
   "outputs": [],
   "source": [
    "pred = pd.to_datetime(samp['UTC_Settlement_DateTime']).dt.hour.map(train.groupby(train[date].dt.hour)[target].mean())"
   ]
  },
  {
   "cell_type": "code",
   "execution_count": 14,
   "id": "4dac882b",
   "metadata": {},
   "outputs": [],
   "source": [
    "pd.DataFrame({\n",
    "    'id': samp['id']\n",
    "    , 'battery_output': pred\n",
    "}).to_csv('submission.csv', index=False)"
   ]
  }
 ],
 "metadata": {
  "kernelspec": {
   "display_name": "Python 3 (ipykernel)",
   "language": "python",
   "name": "python3"
  },
  "language_info": {
   "codemirror_mode": {
    "name": "ipython",
    "version": 3
   },
   "file_extension": ".py",
   "mimetype": "text/x-python",
   "name": "python",
   "nbconvert_exporter": "python",
   "pygments_lexer": "ipython3",
   "version": "3.11.4"
  }
 },
 "nbformat": 4,
 "nbformat_minor": 5
}
